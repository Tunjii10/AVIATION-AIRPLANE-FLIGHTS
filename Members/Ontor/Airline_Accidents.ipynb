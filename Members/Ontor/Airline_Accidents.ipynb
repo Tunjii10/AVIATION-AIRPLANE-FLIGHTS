{
  "nbformat": 4,
  "nbformat_minor": 0,
  "metadata": {
    "colab": {
      "name": "Airline_Accidents (1).ipynb",
      "provenance": [],
      "collapsed_sections": [],
      "include_colab_link": true
    },
    "kernelspec": {
      "name": "python3",
      "display_name": "Python 3"
    },
    "language_info": {
      "name": "python"
    }
  },
  "cells": [
    {
      "cell_type": "markdown",
      "metadata": {
        "id": "view-in-github",
        "colab_type": "text"
      },
      "source": [
        "<a href=\"https://colab.research.google.com/github/enyeneraph/AVIATION-AIRPLANE-FLIGHTS/blob/main/Members/Ontor/Airline_Accidents.ipynb\" target=\"_parent\"><img src=\"https://colab.research.google.com/assets/colab-badge.svg\" alt=\"Open In Colab\"/></a>"
      ]
    },
    {
      "cell_type": "markdown",
      "metadata": {
        "id": "-ab3hIwDJ9tH"
      },
      "source": [
        "**Importing the necessary packages for Analysis of Airplance Crash Data**"
      ]
    },
    {
      "cell_type": "code",
      "metadata": {
        "id": "60uzxFj1JLHN"
      },
      "source": [
        "import numpy as np\n",
        "import pandas as pd\n",
        "import matplotlib\n",
        "import matplotlib.pyplot as plt\n",
        "import seaborn as sns\n",
        "from scipy import stats as sts"
      ],
      "execution_count": null,
      "outputs": []
    },
    {
      "cell_type": "markdown",
      "metadata": {
        "id": "o7KIQC5GKNb3"
      },
      "source": [
        "**Reading the data in airline_data variable using pandas**"
      ]
    },
    {
      "cell_type": "code",
      "metadata": {
        "id": "3h4e3Oe5Jo7Q"
      },
      "source": [
        "airline_data = pd.read_csv(\"Airplane.csv\")"
      ],
      "execution_count": null,
      "outputs": []
    },
    {
      "cell_type": "markdown",
      "metadata": {
        "id": "AWVDAleoLQ7A"
      },
      "source": [
        "# **Data Preparation (Cleaning & Preprocessing)**"
      ]
    },
    {
      "cell_type": "code",
      "metadata": {
        "colab": {
          "base_uri": "https://localhost:8080/",
          "height": 479
        },
        "id": "8t6_mw_sLWRI",
        "outputId": "5a5ce100-665f-459a-d3e7-21f6ef537f96"
      },
      "source": [
        "airline_data.head()"
      ],
      "execution_count": null,
      "outputs": [
        {
          "output_type": "execute_result",
          "data": {
            "text/html": [
              "<div>\n",
              "<style scoped>\n",
              "    .dataframe tbody tr th:only-of-type {\n",
              "        vertical-align: middle;\n",
              "    }\n",
              "\n",
              "    .dataframe tbody tr th {\n",
              "        vertical-align: top;\n",
              "    }\n",
              "\n",
              "    .dataframe thead th {\n",
              "        text-align: right;\n",
              "    }\n",
              "</style>\n",
              "<table border=\"1\" class=\"dataframe\">\n",
              "  <thead>\n",
              "    <tr style=\"text-align: right;\">\n",
              "      <th></th>\n",
              "      <th>date</th>\n",
              "      <th>Time</th>\n",
              "      <th>location</th>\n",
              "      <th>operator</th>\n",
              "      <th>flight_no</th>\n",
              "      <th>route</th>\n",
              "      <th>ac_type</th>\n",
              "      <th>registration</th>\n",
              "      <th>cn_ln</th>\n",
              "      <th>all_aboard</th>\n",
              "      <th>passengers_aboard</th>\n",
              "      <th>crew_aboard</th>\n",
              "      <th>all_fatalities</th>\n",
              "      <th>passenger_fatalities</th>\n",
              "      <th>crew_fatalities</th>\n",
              "      <th>ground</th>\n",
              "      <th>summary</th>\n",
              "    </tr>\n",
              "  </thead>\n",
              "  <tbody>\n",
              "    <tr>\n",
              "      <th>0</th>\n",
              "      <td>September 17, 1908</td>\n",
              "      <td>17:18</td>\n",
              "      <td>Fort Myer, Virginia</td>\n",
              "      <td>Military - U.S. Army</td>\n",
              "      <td>?</td>\n",
              "      <td>Demonstration</td>\n",
              "      <td>Wright Flyer III</td>\n",
              "      <td>?</td>\n",
              "      <td>1</td>\n",
              "      <td>2</td>\n",
              "      <td>1</td>\n",
              "      <td>1</td>\n",
              "      <td>1</td>\n",
              "      <td>1</td>\n",
              "      <td>0</td>\n",
              "      <td>0</td>\n",
              "      <td>During a demonstration flight, a U.S. Army fly...</td>\n",
              "    </tr>\n",
              "    <tr>\n",
              "      <th>1</th>\n",
              "      <td>September 07, 1909</td>\n",
              "      <td>NaN</td>\n",
              "      <td>Juvisy-sur-Orge, France</td>\n",
              "      <td>?</td>\n",
              "      <td>?</td>\n",
              "      <td>Air show</td>\n",
              "      <td>Wright Byplane</td>\n",
              "      <td>SC1</td>\n",
              "      <td>?</td>\n",
              "      <td>1</td>\n",
              "      <td>0</td>\n",
              "      <td>1</td>\n",
              "      <td>1</td>\n",
              "      <td>0</td>\n",
              "      <td>0</td>\n",
              "      <td>0</td>\n",
              "      <td>Eugene Lefebvre was the first pilot to ever be...</td>\n",
              "    </tr>\n",
              "    <tr>\n",
              "      <th>2</th>\n",
              "      <td>July 12, 1912</td>\n",
              "      <td>06:30</td>\n",
              "      <td>Atlantic City, New Jersey</td>\n",
              "      <td>Military - U.S. Navy</td>\n",
              "      <td>?</td>\n",
              "      <td>Test flight</td>\n",
              "      <td>Dirigible</td>\n",
              "      <td>?</td>\n",
              "      <td>?</td>\n",
              "      <td>5</td>\n",
              "      <td>0</td>\n",
              "      <td>5</td>\n",
              "      <td>5</td>\n",
              "      <td>0</td>\n",
              "      <td>5</td>\n",
              "      <td>0</td>\n",
              "      <td>First U.S. dirigible Akron exploded just offsh...</td>\n",
              "    </tr>\n",
              "    <tr>\n",
              "      <th>3</th>\n",
              "      <td>August 06, 1913</td>\n",
              "      <td>NaN</td>\n",
              "      <td>Victoria, British Columbia, Canada</td>\n",
              "      <td>Private</td>\n",
              "      <td>?</td>\n",
              "      <td>?</td>\n",
              "      <td>Curtiss seaplane</td>\n",
              "      <td>?</td>\n",
              "      <td>?</td>\n",
              "      <td>1</td>\n",
              "      <td>0</td>\n",
              "      <td>1</td>\n",
              "      <td>1</td>\n",
              "      <td>0</td>\n",
              "      <td>1</td>\n",
              "      <td>0</td>\n",
              "      <td>The first fatal airplane accident in Canada oc...</td>\n",
              "    </tr>\n",
              "    <tr>\n",
              "      <th>4</th>\n",
              "      <td>September 09, 1913</td>\n",
              "      <td>18:30</td>\n",
              "      <td>Over the North Sea</td>\n",
              "      <td>Military - German Navy</td>\n",
              "      <td>?</td>\n",
              "      <td>?</td>\n",
              "      <td>Zeppelin L-1 (airship)</td>\n",
              "      <td>?</td>\n",
              "      <td>?</td>\n",
              "      <td>20</td>\n",
              "      <td>?</td>\n",
              "      <td>?</td>\n",
              "      <td>14</td>\n",
              "      <td>?</td>\n",
              "      <td>?</td>\n",
              "      <td>0</td>\n",
              "      <td>The airship flew into a thunderstorm and encou...</td>\n",
              "    </tr>\n",
              "  </tbody>\n",
              "</table>\n",
              "</div>"
            ],
            "text/plain": [
              "                 date  ...                                            summary\n",
              "0  September 17, 1908  ...  During a demonstration flight, a U.S. Army fly...\n",
              "1  September 07, 1909  ...  Eugene Lefebvre was the first pilot to ever be...\n",
              "2       July 12, 1912  ...  First U.S. dirigible Akron exploded just offsh...\n",
              "3     August 06, 1913  ...  The first fatal airplane accident in Canada oc...\n",
              "4  September 09, 1913  ...  The airship flew into a thunderstorm and encou...\n",
              "\n",
              "[5 rows x 17 columns]"
            ]
          },
          "metadata": {},
          "execution_count": 3
        }
      ]
    },
    {
      "cell_type": "code",
      "metadata": {
        "colab": {
          "base_uri": "https://localhost:8080/",
          "height": 227
        },
        "id": "rh43wkeLPjUw",
        "outputId": "36762c5d-88a0-4498-8aba-099a72fbac1a"
      },
      "source": [
        "airline_data.describe(include='object')"
      ],
      "execution_count": null,
      "outputs": [
        {
          "output_type": "execute_result",
          "data": {
            "text/html": [
              "<div>\n",
              "<style scoped>\n",
              "    .dataframe tbody tr th:only-of-type {\n",
              "        vertical-align: middle;\n",
              "    }\n",
              "\n",
              "    .dataframe tbody tr th {\n",
              "        vertical-align: top;\n",
              "    }\n",
              "\n",
              "    .dataframe thead th {\n",
              "        text-align: right;\n",
              "    }\n",
              "</style>\n",
              "<table border=\"1\" class=\"dataframe\">\n",
              "  <thead>\n",
              "    <tr style=\"text-align: right;\">\n",
              "      <th></th>\n",
              "      <th>date</th>\n",
              "      <th>Time</th>\n",
              "      <th>location</th>\n",
              "      <th>operator</th>\n",
              "      <th>flight_no</th>\n",
              "      <th>route</th>\n",
              "      <th>ac_type</th>\n",
              "      <th>registration</th>\n",
              "      <th>cn_ln</th>\n",
              "      <th>all_aboard</th>\n",
              "      <th>passengers_aboard</th>\n",
              "      <th>crew_aboard</th>\n",
              "      <th>all_fatalities</th>\n",
              "      <th>passenger_fatalities</th>\n",
              "      <th>crew_fatalities</th>\n",
              "      <th>ground</th>\n",
              "      <th>summary</th>\n",
              "    </tr>\n",
              "  </thead>\n",
              "  <tbody>\n",
              "    <tr>\n",
              "      <th>count</th>\n",
              "      <td>5008</td>\n",
              "      <td>3497</td>\n",
              "      <td>5008</td>\n",
              "      <td>5008</td>\n",
              "      <td>5008</td>\n",
              "      <td>5008</td>\n",
              "      <td>5008</td>\n",
              "      <td>5008</td>\n",
              "      <td>5008</td>\n",
              "      <td>5008</td>\n",
              "      <td>5008</td>\n",
              "      <td>5008</td>\n",
              "      <td>5008</td>\n",
              "      <td>5008</td>\n",
              "      <td>5008</td>\n",
              "      <td>5008</td>\n",
              "      <td>5008</td>\n",
              "    </tr>\n",
              "    <tr>\n",
              "      <th>unique</th>\n",
              "      <td>4577</td>\n",
              "      <td>1061</td>\n",
              "      <td>4125</td>\n",
              "      <td>2268</td>\n",
              "      <td>878</td>\n",
              "      <td>3839</td>\n",
              "      <td>2469</td>\n",
              "      <td>4699</td>\n",
              "      <td>3829</td>\n",
              "      <td>245</td>\n",
              "      <td>235</td>\n",
              "      <td>35</td>\n",
              "      <td>200</td>\n",
              "      <td>191</td>\n",
              "      <td>29</td>\n",
              "      <td>52</td>\n",
              "      <td>4858</td>\n",
              "    </tr>\n",
              "    <tr>\n",
              "      <th>top</th>\n",
              "      <td>August 31, 1988</td>\n",
              "      <td>15:00</td>\n",
              "      <td>Moscow, Russia</td>\n",
              "      <td>Aeroflot</td>\n",
              "      <td>?</td>\n",
              "      <td>?</td>\n",
              "      <td>Douglas DC-3</td>\n",
              "      <td>?</td>\n",
              "      <td>?</td>\n",
              "      <td>3</td>\n",
              "      <td>0</td>\n",
              "      <td>3</td>\n",
              "      <td>1</td>\n",
              "      <td>0</td>\n",
              "      <td>2</td>\n",
              "      <td>0</td>\n",
              "      <td>?</td>\n",
              "    </tr>\n",
              "    <tr>\n",
              "      <th>freq</th>\n",
              "      <td>4</td>\n",
              "      <td>38</td>\n",
              "      <td>16</td>\n",
              "      <td>253</td>\n",
              "      <td>3682</td>\n",
              "      <td>762</td>\n",
              "      <td>333</td>\n",
              "      <td>272</td>\n",
              "      <td>667</td>\n",
              "      <td>280</td>\n",
              "      <td>869</td>\n",
              "      <td>954</td>\n",
              "      <td>384</td>\n",
              "      <td>1040</td>\n",
              "      <td>892</td>\n",
              "      <td>4716</td>\n",
              "      <td>59</td>\n",
              "    </tr>\n",
              "  </tbody>\n",
              "</table>\n",
              "</div>"
            ],
            "text/plain": [
              "                   date   Time        location  ... crew_fatalities ground summary\n",
              "count              5008   3497            5008  ...            5008   5008    5008\n",
              "unique             4577   1061            4125  ...              29     52    4858\n",
              "top     August 31, 1988  15:00  Moscow, Russia  ...               2      0       ?\n",
              "freq                  4     38              16  ...             892   4716      59\n",
              "\n",
              "[4 rows x 17 columns]"
            ]
          },
          "metadata": {},
          "execution_count": 4
        }
      ]
    },
    {
      "cell_type": "code",
      "metadata": {
        "colab": {
          "base_uri": "https://localhost:8080/"
        },
        "id": "Q__0Uf93PLNQ",
        "outputId": "e3a56ad2-72d4-445d-8883-4d8355f2d902"
      },
      "source": [
        "airline_data.isna().sum()"
      ],
      "execution_count": null,
      "outputs": [
        {
          "output_type": "execute_result",
          "data": {
            "text/plain": [
              "date                       0\n",
              "Time                    1511\n",
              "location                   0\n",
              "operator                   0\n",
              "flight_no                  0\n",
              "route                      0\n",
              "ac_type                    0\n",
              "registration               0\n",
              "cn_ln                      0\n",
              "all_aboard                 0\n",
              "passengers_aboard          0\n",
              "crew_aboard                0\n",
              "all_fatalities             0\n",
              "passenger_fatalities       0\n",
              "crew_fatalities            0\n",
              "ground                     0\n",
              "summary                    0\n",
              "dtype: int64"
            ]
          },
          "metadata": {},
          "execution_count": 5
        }
      ]
    },
    {
      "cell_type": "markdown",
      "metadata": {
        "id": "k19m_v5pTY9x"
      },
      "source": [
        "**We can see from the above code that the 'time' column contains 1511 null values that needs to be dealt with.**"
      ]
    },
    {
      "cell_type": "markdown",
      "metadata": {
        "id": "0q_2RGssYNsv"
      },
      "source": [
        "**Let's convert the 'Date' column to the appropriate format.**"
      ]
    },
    {
      "cell_type": "code",
      "metadata": {
        "colab": {
          "base_uri": "https://localhost:8080/"
        },
        "id": "DtBZhDCtTl2v",
        "outputId": "a00e3820-ea5f-417b-868c-023f3ce378aa"
      },
      "source": [
        "airline_data['date'] = pd.to_datetime(airline_data['date'])\n",
        "airline_data['date'] = airline_data['date'].dt.strftime(\"%m/%d/%Y\")\n",
        "airline_data['date'].head(5)"
      ],
      "execution_count": null,
      "outputs": [
        {
          "output_type": "execute_result",
          "data": {
            "text/plain": [
              "0    09/17/1908\n",
              "1    09/07/1909\n",
              "2    07/12/1912\n",
              "3    08/06/1913\n",
              "4    09/09/1913\n",
              "Name: date, dtype: object"
            ]
          },
          "metadata": {},
          "execution_count": 6
        }
      ]
    },
    {
      "cell_type": "code",
      "metadata": {
        "colab": {
          "base_uri": "https://localhost:8080/",
          "height": 479
        },
        "id": "Sm1DXVoMYG0o",
        "outputId": "14335bcd-1c00-42cc-84bb-bd862b6e491c"
      },
      "source": [
        "airline_data.head()"
      ],
      "execution_count": null,
      "outputs": [
        {
          "output_type": "execute_result",
          "data": {
            "text/html": [
              "<div>\n",
              "<style scoped>\n",
              "    .dataframe tbody tr th:only-of-type {\n",
              "        vertical-align: middle;\n",
              "    }\n",
              "\n",
              "    .dataframe tbody tr th {\n",
              "        vertical-align: top;\n",
              "    }\n",
              "\n",
              "    .dataframe thead th {\n",
              "        text-align: right;\n",
              "    }\n",
              "</style>\n",
              "<table border=\"1\" class=\"dataframe\">\n",
              "  <thead>\n",
              "    <tr style=\"text-align: right;\">\n",
              "      <th></th>\n",
              "      <th>date</th>\n",
              "      <th>Time</th>\n",
              "      <th>location</th>\n",
              "      <th>operator</th>\n",
              "      <th>flight_no</th>\n",
              "      <th>route</th>\n",
              "      <th>ac_type</th>\n",
              "      <th>registration</th>\n",
              "      <th>cn_ln</th>\n",
              "      <th>all_aboard</th>\n",
              "      <th>passengers_aboard</th>\n",
              "      <th>crew_aboard</th>\n",
              "      <th>all_fatalities</th>\n",
              "      <th>passenger_fatalities</th>\n",
              "      <th>crew_fatalities</th>\n",
              "      <th>ground</th>\n",
              "      <th>summary</th>\n",
              "    </tr>\n",
              "  </thead>\n",
              "  <tbody>\n",
              "    <tr>\n",
              "      <th>0</th>\n",
              "      <td>09/17/1908</td>\n",
              "      <td>17:18</td>\n",
              "      <td>Fort Myer, Virginia</td>\n",
              "      <td>Military - U.S. Army</td>\n",
              "      <td>?</td>\n",
              "      <td>Demonstration</td>\n",
              "      <td>Wright Flyer III</td>\n",
              "      <td>?</td>\n",
              "      <td>1</td>\n",
              "      <td>2</td>\n",
              "      <td>1</td>\n",
              "      <td>1</td>\n",
              "      <td>1</td>\n",
              "      <td>1</td>\n",
              "      <td>0</td>\n",
              "      <td>0</td>\n",
              "      <td>During a demonstration flight, a U.S. Army fly...</td>\n",
              "    </tr>\n",
              "    <tr>\n",
              "      <th>1</th>\n",
              "      <td>09/07/1909</td>\n",
              "      <td>NaN</td>\n",
              "      <td>Juvisy-sur-Orge, France</td>\n",
              "      <td>?</td>\n",
              "      <td>?</td>\n",
              "      <td>Air show</td>\n",
              "      <td>Wright Byplane</td>\n",
              "      <td>SC1</td>\n",
              "      <td>?</td>\n",
              "      <td>1</td>\n",
              "      <td>0</td>\n",
              "      <td>1</td>\n",
              "      <td>1</td>\n",
              "      <td>0</td>\n",
              "      <td>0</td>\n",
              "      <td>0</td>\n",
              "      <td>Eugene Lefebvre was the first pilot to ever be...</td>\n",
              "    </tr>\n",
              "    <tr>\n",
              "      <th>2</th>\n",
              "      <td>07/12/1912</td>\n",
              "      <td>06:30</td>\n",
              "      <td>Atlantic City, New Jersey</td>\n",
              "      <td>Military - U.S. Navy</td>\n",
              "      <td>?</td>\n",
              "      <td>Test flight</td>\n",
              "      <td>Dirigible</td>\n",
              "      <td>?</td>\n",
              "      <td>?</td>\n",
              "      <td>5</td>\n",
              "      <td>0</td>\n",
              "      <td>5</td>\n",
              "      <td>5</td>\n",
              "      <td>0</td>\n",
              "      <td>5</td>\n",
              "      <td>0</td>\n",
              "      <td>First U.S. dirigible Akron exploded just offsh...</td>\n",
              "    </tr>\n",
              "    <tr>\n",
              "      <th>3</th>\n",
              "      <td>08/06/1913</td>\n",
              "      <td>NaN</td>\n",
              "      <td>Victoria, British Columbia, Canada</td>\n",
              "      <td>Private</td>\n",
              "      <td>?</td>\n",
              "      <td>?</td>\n",
              "      <td>Curtiss seaplane</td>\n",
              "      <td>?</td>\n",
              "      <td>?</td>\n",
              "      <td>1</td>\n",
              "      <td>0</td>\n",
              "      <td>1</td>\n",
              "      <td>1</td>\n",
              "      <td>0</td>\n",
              "      <td>1</td>\n",
              "      <td>0</td>\n",
              "      <td>The first fatal airplane accident in Canada oc...</td>\n",
              "    </tr>\n",
              "    <tr>\n",
              "      <th>4</th>\n",
              "      <td>09/09/1913</td>\n",
              "      <td>18:30</td>\n",
              "      <td>Over the North Sea</td>\n",
              "      <td>Military - German Navy</td>\n",
              "      <td>?</td>\n",
              "      <td>?</td>\n",
              "      <td>Zeppelin L-1 (airship)</td>\n",
              "      <td>?</td>\n",
              "      <td>?</td>\n",
              "      <td>20</td>\n",
              "      <td>?</td>\n",
              "      <td>?</td>\n",
              "      <td>14</td>\n",
              "      <td>?</td>\n",
              "      <td>?</td>\n",
              "      <td>0</td>\n",
              "      <td>The airship flew into a thunderstorm and encou...</td>\n",
              "    </tr>\n",
              "  </tbody>\n",
              "</table>\n",
              "</div>"
            ],
            "text/plain": [
              "         date   Time  ... ground                                            summary\n",
              "0  09/17/1908  17:18  ...      0  During a demonstration flight, a U.S. Army fly...\n",
              "1  09/07/1909    NaN  ...      0  Eugene Lefebvre was the first pilot to ever be...\n",
              "2  07/12/1912  06:30  ...      0  First U.S. dirigible Akron exploded just offsh...\n",
              "3  08/06/1913    NaN  ...      0  The first fatal airplane accident in Canada oc...\n",
              "4  09/09/1913  18:30  ...      0  The airship flew into a thunderstorm and encou...\n",
              "\n",
              "[5 rows x 17 columns]"
            ]
          },
          "metadata": {},
          "execution_count": 7
        }
      ]
    },
    {
      "cell_type": "markdown",
      "metadata": {
        "id": "gs9hbCqnYiRg"
      },
      "source": [
        "**For visualization purposes, let's create a new column with just the year from the column 'Date'.**"
      ]
    },
    {
      "cell_type": "code",
      "metadata": {
        "colab": {
          "base_uri": "https://localhost:8080/"
        },
        "id": "3y8F6Lo2YkGA",
        "outputId": "63acd939-8641-407c-cdfa-ad37ab508cbb"
      },
      "source": [
        "airline_data['Year'] = pd.DatetimeIndex(airline_data['date']).year\n",
        "airline_data['Year'].head(5)"
      ],
      "execution_count": null,
      "outputs": [
        {
          "output_type": "execute_result",
          "data": {
            "text/plain": [
              "0    1908\n",
              "1    1909\n",
              "2    1912\n",
              "3    1913\n",
              "4    1913\n",
              "Name: Year, dtype: int64"
            ]
          },
          "metadata": {},
          "execution_count": 8
        }
      ]
    },
    {
      "cell_type": "code",
      "metadata": {
        "colab": {
          "base_uri": "https://localhost:8080/",
          "height": 479
        },
        "id": "DnMiJ0p2YuPv",
        "outputId": "c5f2e7de-059b-404f-cc61-77e0ad06ee3d"
      },
      "source": [
        "airline_data.head()"
      ],
      "execution_count": null,
      "outputs": [
        {
          "output_type": "execute_result",
          "data": {
            "text/html": [
              "<div>\n",
              "<style scoped>\n",
              "    .dataframe tbody tr th:only-of-type {\n",
              "        vertical-align: middle;\n",
              "    }\n",
              "\n",
              "    .dataframe tbody tr th {\n",
              "        vertical-align: top;\n",
              "    }\n",
              "\n",
              "    .dataframe thead th {\n",
              "        text-align: right;\n",
              "    }\n",
              "</style>\n",
              "<table border=\"1\" class=\"dataframe\">\n",
              "  <thead>\n",
              "    <tr style=\"text-align: right;\">\n",
              "      <th></th>\n",
              "      <th>date</th>\n",
              "      <th>Time</th>\n",
              "      <th>location</th>\n",
              "      <th>operator</th>\n",
              "      <th>flight_no</th>\n",
              "      <th>route</th>\n",
              "      <th>ac_type</th>\n",
              "      <th>registration</th>\n",
              "      <th>cn_ln</th>\n",
              "      <th>all_aboard</th>\n",
              "      <th>passengers_aboard</th>\n",
              "      <th>crew_aboard</th>\n",
              "      <th>all_fatalities</th>\n",
              "      <th>passenger_fatalities</th>\n",
              "      <th>crew_fatalities</th>\n",
              "      <th>ground</th>\n",
              "      <th>summary</th>\n",
              "      <th>Year</th>\n",
              "    </tr>\n",
              "  </thead>\n",
              "  <tbody>\n",
              "    <tr>\n",
              "      <th>0</th>\n",
              "      <td>09/17/1908</td>\n",
              "      <td>17:18</td>\n",
              "      <td>Fort Myer, Virginia</td>\n",
              "      <td>Military - U.S. Army</td>\n",
              "      <td>?</td>\n",
              "      <td>Demonstration</td>\n",
              "      <td>Wright Flyer III</td>\n",
              "      <td>?</td>\n",
              "      <td>1</td>\n",
              "      <td>2</td>\n",
              "      <td>1</td>\n",
              "      <td>1</td>\n",
              "      <td>1</td>\n",
              "      <td>1</td>\n",
              "      <td>0</td>\n",
              "      <td>0</td>\n",
              "      <td>During a demonstration flight, a U.S. Army fly...</td>\n",
              "      <td>1908</td>\n",
              "    </tr>\n",
              "    <tr>\n",
              "      <th>1</th>\n",
              "      <td>09/07/1909</td>\n",
              "      <td>NaN</td>\n",
              "      <td>Juvisy-sur-Orge, France</td>\n",
              "      <td>?</td>\n",
              "      <td>?</td>\n",
              "      <td>Air show</td>\n",
              "      <td>Wright Byplane</td>\n",
              "      <td>SC1</td>\n",
              "      <td>?</td>\n",
              "      <td>1</td>\n",
              "      <td>0</td>\n",
              "      <td>1</td>\n",
              "      <td>1</td>\n",
              "      <td>0</td>\n",
              "      <td>0</td>\n",
              "      <td>0</td>\n",
              "      <td>Eugene Lefebvre was the first pilot to ever be...</td>\n",
              "      <td>1909</td>\n",
              "    </tr>\n",
              "    <tr>\n",
              "      <th>2</th>\n",
              "      <td>07/12/1912</td>\n",
              "      <td>06:30</td>\n",
              "      <td>Atlantic City, New Jersey</td>\n",
              "      <td>Military - U.S. Navy</td>\n",
              "      <td>?</td>\n",
              "      <td>Test flight</td>\n",
              "      <td>Dirigible</td>\n",
              "      <td>?</td>\n",
              "      <td>?</td>\n",
              "      <td>5</td>\n",
              "      <td>0</td>\n",
              "      <td>5</td>\n",
              "      <td>5</td>\n",
              "      <td>0</td>\n",
              "      <td>5</td>\n",
              "      <td>0</td>\n",
              "      <td>First U.S. dirigible Akron exploded just offsh...</td>\n",
              "      <td>1912</td>\n",
              "    </tr>\n",
              "    <tr>\n",
              "      <th>3</th>\n",
              "      <td>08/06/1913</td>\n",
              "      <td>NaN</td>\n",
              "      <td>Victoria, British Columbia, Canada</td>\n",
              "      <td>Private</td>\n",
              "      <td>?</td>\n",
              "      <td>?</td>\n",
              "      <td>Curtiss seaplane</td>\n",
              "      <td>?</td>\n",
              "      <td>?</td>\n",
              "      <td>1</td>\n",
              "      <td>0</td>\n",
              "      <td>1</td>\n",
              "      <td>1</td>\n",
              "      <td>0</td>\n",
              "      <td>1</td>\n",
              "      <td>0</td>\n",
              "      <td>The first fatal airplane accident in Canada oc...</td>\n",
              "      <td>1913</td>\n",
              "    </tr>\n",
              "    <tr>\n",
              "      <th>4</th>\n",
              "      <td>09/09/1913</td>\n",
              "      <td>18:30</td>\n",
              "      <td>Over the North Sea</td>\n",
              "      <td>Military - German Navy</td>\n",
              "      <td>?</td>\n",
              "      <td>?</td>\n",
              "      <td>Zeppelin L-1 (airship)</td>\n",
              "      <td>?</td>\n",
              "      <td>?</td>\n",
              "      <td>20</td>\n",
              "      <td>?</td>\n",
              "      <td>?</td>\n",
              "      <td>14</td>\n",
              "      <td>?</td>\n",
              "      <td>?</td>\n",
              "      <td>0</td>\n",
              "      <td>The airship flew into a thunderstorm and encou...</td>\n",
              "      <td>1913</td>\n",
              "    </tr>\n",
              "  </tbody>\n",
              "</table>\n",
              "</div>"
            ],
            "text/plain": [
              "         date   Time  ...                                            summary  Year\n",
              "0  09/17/1908  17:18  ...  During a demonstration flight, a U.S. Army fly...  1908\n",
              "1  09/07/1909    NaN  ...  Eugene Lefebvre was the first pilot to ever be...  1909\n",
              "2  07/12/1912  06:30  ...  First U.S. dirigible Akron exploded just offsh...  1912\n",
              "3  08/06/1913    NaN  ...  The first fatal airplane accident in Canada oc...  1913\n",
              "4  09/09/1913  18:30  ...  The airship flew into a thunderstorm and encou...  1913\n",
              "\n",
              "[5 rows x 18 columns]"
            ]
          },
          "metadata": {},
          "execution_count": 9
        }
      ]
    },
    {
      "cell_type": "markdown",
      "metadata": {
        "id": "_5o-i3YfZztP"
      },
      "source": [
        "# **`Feature Engineering`**"
      ]
    },
    {
      "cell_type": "markdown",
      "metadata": {
        "id": "9QwMbQ2WkcXv"
      },
      "source": [
        "**Dealing with the 1511 missing values in 'Time' column**"
      ]
    },
    {
      "cell_type": "code",
      "metadata": {
        "id": "W8f0YkYEZ2iP"
      },
      "source": [
        "airline_data['Time'] = airline_data['Time'].replace(np.nan, '00:00') \n",
        "airline_data['Time'] = airline_data['Time'].str.replace('c: ', '')\n",
        "airline_data['Time'] = airline_data['Time'].str.replace('c:', '')\n",
        "airline_data['Time'] = airline_data['Time'].str.replace('c', '')\n",
        "airline_data['Time'] = airline_data['Time'].str.replace('12\\'20', '12:20')\n",
        "airline_data['Time'] = airline_data['Time'].str.replace('18.40', '18:40')\n",
        "airline_data['Time'] = airline_data['Time'].str.replace('0943', '09:43')\n",
        "airline_data['Time'] = airline_data['Time'].str.replace('22\\'08', '22:08')\n",
        "airline_data['Time'] = airline_data['Time'].str.replace('114:20', '00:00')\n",
        "airline_data['Time'] = airline_data['Time'].str.replace('91:05:00', '00:00')\n",
        "airline_data['Time'] = airline_data['Time'].str.replace('90:00:00', '00:00')\n",
        "airline_data['Time'] = airline_data['Time'].str.replace('24:05:00', '00:00')\n",
        "airline_data['Time'] = airline_data['Time'].str.replace('24:05:00', '00:00')\n",
        "airline_data['Time'] = airline_data['Time'].str.replace('?', '00:00')"
      ],
      "execution_count": null,
      "outputs": []
    },
    {
      "cell_type": "markdown",
      "metadata": {
        "id": "NrwlVwrsgA2V"
      },
      "source": [
        "**Just to avoid duplicates like 'British Airlines' and 'BRITISH Airlines'**"
      ]
    },
    {
      "cell_type": "code",
      "metadata": {
        "id": "s0xCF_oFgDcf"
      },
      "source": [
        "airline_data.operator = airline_data.operator.str.upper()"
      ],
      "execution_count": null,
      "outputs": []
    },
    {
      "cell_type": "markdown",
      "metadata": {
        "id": "oneUR2Ylh3cP"
      },
      "source": [
        "**Transforming Time column to datetime format and splitting**"
      ]
    },
    {
      "cell_type": "code",
      "metadata": {
        "id": "h0QB4aKJiGBu"
      },
      "source": [
        "time = pd.to_datetime(airline_data['Time'], format='%H:%M')\n",
        "airline_data['hour'] = time.dt.hour"
      ],
      "execution_count": null,
      "outputs": []
    },
    {
      "cell_type": "markdown",
      "metadata": {
        "id": "oY0Ujay1mhjG"
      },
      "source": [
        "# **Visualizations**"
      ]
    },
    {
      "cell_type": "markdown",
      "metadata": {
        "id": "9m0ws_hqmpGv"
      },
      "source": [
        "**Total fatalities sorted by year**"
      ]
    },
    {
      "cell_type": "markdown",
      "metadata": {
        "id": "b0T4wesFx1vF"
      },
      "source": [
        "**First we summarise to get the count of accidents per year :**"
      ]
    },
    {
      "cell_type": "code",
      "metadata": {
        "id": "kjGbk13mx7bG"
      },
      "source": [
        "total_crashes_per_year = airline_data[['Year', 'all_fatalities']].groupby('Year').count()\n",
        "total_crashes_per_year = total_crashes_per_year.reset_index()\n",
        "total_crashes_per_year.columns = ['Year', 'Crashes']"
      ],
      "execution_count": null,
      "outputs": []
    },
    {
      "cell_type": "code",
      "metadata": {
        "colab": {
          "base_uri": "https://localhost:8080/",
          "height": 419
        },
        "id": "3n0KeY6czzVF",
        "outputId": "ab2a82c4-9d45-4d47-a3a8-5af52412b588"
      },
      "source": [
        "total_crashes_per_year"
      ],
      "execution_count": null,
      "outputs": [
        {
          "output_type": "execute_result",
          "data": {
            "text/html": [
              "<div>\n",
              "<style scoped>\n",
              "    .dataframe tbody tr th:only-of-type {\n",
              "        vertical-align: middle;\n",
              "    }\n",
              "\n",
              "    .dataframe tbody tr th {\n",
              "        vertical-align: top;\n",
              "    }\n",
              "\n",
              "    .dataframe thead th {\n",
              "        text-align: right;\n",
              "    }\n",
              "</style>\n",
              "<table border=\"1\" class=\"dataframe\">\n",
              "  <thead>\n",
              "    <tr style=\"text-align: right;\">\n",
              "      <th></th>\n",
              "      <th>Year</th>\n",
              "      <th>Crashes</th>\n",
              "    </tr>\n",
              "  </thead>\n",
              "  <tbody>\n",
              "    <tr>\n",
              "      <th>0</th>\n",
              "      <td>1908</td>\n",
              "      <td>1</td>\n",
              "    </tr>\n",
              "    <tr>\n",
              "      <th>1</th>\n",
              "      <td>1909</td>\n",
              "      <td>1</td>\n",
              "    </tr>\n",
              "    <tr>\n",
              "      <th>2</th>\n",
              "      <td>1912</td>\n",
              "      <td>1</td>\n",
              "    </tr>\n",
              "    <tr>\n",
              "      <th>3</th>\n",
              "      <td>1913</td>\n",
              "      <td>3</td>\n",
              "    </tr>\n",
              "    <tr>\n",
              "      <th>4</th>\n",
              "      <td>1915</td>\n",
              "      <td>2</td>\n",
              "    </tr>\n",
              "    <tr>\n",
              "      <th>...</th>\n",
              "      <td>...</td>\n",
              "      <td>...</td>\n",
              "    </tr>\n",
              "    <tr>\n",
              "      <th>106</th>\n",
              "      <td>2017</td>\n",
              "      <td>15</td>\n",
              "    </tr>\n",
              "    <tr>\n",
              "      <th>107</th>\n",
              "      <td>2018</td>\n",
              "      <td>19</td>\n",
              "    </tr>\n",
              "    <tr>\n",
              "      <th>108</th>\n",
              "      <td>2019</td>\n",
              "      <td>13</td>\n",
              "    </tr>\n",
              "    <tr>\n",
              "      <th>109</th>\n",
              "      <td>2020</td>\n",
              "      <td>8</td>\n",
              "    </tr>\n",
              "    <tr>\n",
              "      <th>110</th>\n",
              "      <td>2021</td>\n",
              "      <td>7</td>\n",
              "    </tr>\n",
              "  </tbody>\n",
              "</table>\n",
              "<p>111 rows × 2 columns</p>\n",
              "</div>"
            ],
            "text/plain": [
              "     Year  Crashes\n",
              "0    1908        1\n",
              "1    1909        1\n",
              "2    1912        1\n",
              "3    1913        3\n",
              "4    1915        2\n",
              "..    ...      ...\n",
              "106  2017       15\n",
              "107  2018       19\n",
              "108  2019       13\n",
              "109  2020        8\n",
              "110  2021        7\n",
              "\n",
              "[111 rows x 2 columns]"
            ]
          },
          "metadata": {},
          "execution_count": 14
        }
      ]
    },
    {
      "cell_type": "markdown",
      "metadata": {
        "id": "UBJ70_dSyU92"
      },
      "source": [
        "**Then we plot with Seaborn :**"
      ]
    },
    {
      "cell_type": "code",
      "metadata": {
        "colab": {
          "base_uri": "https://localhost:8080/",
          "height": 421
        },
        "id": "z5zOOHDiyWpf",
        "outputId": "de2e260d-0299-430e-f3f6-055918a7ca01"
      },
      "source": [
        "plt.figure(figsize=(12,6))\n",
        "sns.lineplot(x = 'Year', y = 'Crashes',marker = \".\",data = total_crashes_per_year)\n",
        "plt.title('Total Airplane Crashes per Year')\n",
        "plt.xlabel('Years')"
      ],
      "execution_count": null,
      "outputs": [
        {
          "output_type": "execute_result",
          "data": {
            "text/plain": [
              "Text(0.5, 0, 'Years')"
            ]
          },
          "metadata": {},
          "execution_count": 15
        },
        {
          "output_type": "display_data",
          "data": {
            "image/png": "[encoded data removed]",
            "text/plain": [
              "<Figure size 864x432 with 1 Axes>"
            ]
          },
          "metadata": {
            "needs_background": "light"
          }
        }
      ]
    },
    {
      "cell_type": "markdown",
      "metadata": {
        "id": "c5ditl1x3YQG"
      },
      "source": [
        "# **We can clearly infer from the above line graph that there was a huge spike in the number of accidents (approx. above 80) in the years around 1947 & 1990.**"
      ]
    },
    {
      "cell_type": "code",
      "metadata": {
        "colab": {
          "base_uri": "https://localhost:8080/",
          "height": 390
        },
        "id": "Q0Qrz56_3cLG",
        "outputId": "d9b2d4f8-4858-427d-dda7-a16f2d47d22c"
      },
      "source": [
        "total_crashes_per_year[total_crashes_per_year['Crashes'] > 70]"
      ],
      "execution_count": null,
      "outputs": [
        {
          "output_type": "execute_result",
          "data": {
            "text/html": [
              "<div>\n",
              "<style scoped>\n",
              "    .dataframe tbody tr th:only-of-type {\n",
              "        vertical-align: middle;\n",
              "    }\n",
              "\n",
              "    .dataframe tbody tr th {\n",
              "        vertical-align: top;\n",
              "    }\n",
              "\n",
              "    .dataframe thead th {\n",
              "        text-align: right;\n",
              "    }\n",
              "</style>\n",
              "<table border=\"1\" class=\"dataframe\">\n",
              "  <thead>\n",
              "    <tr style=\"text-align: right;\">\n",
              "      <th></th>\n",
              "      <th>Year</th>\n",
              "      <th>Crashes</th>\n",
              "    </tr>\n",
              "  </thead>\n",
              "  <tbody>\n",
              "    <tr>\n",
              "      <th>34</th>\n",
              "      <td>1945</td>\n",
              "      <td>75</td>\n",
              "    </tr>\n",
              "    <tr>\n",
              "      <th>35</th>\n",
              "      <td>1946</td>\n",
              "      <td>88</td>\n",
              "    </tr>\n",
              "    <tr>\n",
              "      <th>36</th>\n",
              "      <td>1947</td>\n",
              "      <td>82</td>\n",
              "    </tr>\n",
              "    <tr>\n",
              "      <th>37</th>\n",
              "      <td>1948</td>\n",
              "      <td>78</td>\n",
              "    </tr>\n",
              "    <tr>\n",
              "      <th>39</th>\n",
              "      <td>1950</td>\n",
              "      <td>71</td>\n",
              "    </tr>\n",
              "    <tr>\n",
              "      <th>40</th>\n",
              "      <td>1951</td>\n",
              "      <td>75</td>\n",
              "    </tr>\n",
              "    <tr>\n",
              "      <th>51</th>\n",
              "      <td>1962</td>\n",
              "      <td>78</td>\n",
              "    </tr>\n",
              "    <tr>\n",
              "      <th>59</th>\n",
              "      <td>1970</td>\n",
              "      <td>73</td>\n",
              "    </tr>\n",
              "    <tr>\n",
              "      <th>61</th>\n",
              "      <td>1972</td>\n",
              "      <td>77</td>\n",
              "    </tr>\n",
              "    <tr>\n",
              "      <th>78</th>\n",
              "      <td>1989</td>\n",
              "      <td>83</td>\n",
              "    </tr>\n",
              "    <tr>\n",
              "      <th>83</th>\n",
              "      <td>1994</td>\n",
              "      <td>74</td>\n",
              "    </tr>\n",
              "  </tbody>\n",
              "</table>\n",
              "</div>"
            ],
            "text/plain": [
              "    Year  Crashes\n",
              "34  1945       75\n",
              "35  1946       88\n",
              "36  1947       82\n",
              "37  1948       78\n",
              "39  1950       71\n",
              "40  1951       75\n",
              "51  1962       78\n",
              "59  1970       73\n",
              "61  1972       77\n",
              "78  1989       83\n",
              "83  1994       74"
            ]
          },
          "metadata": {},
          "execution_count": 16
        }
      ]
    },
    {
      "cell_type": "markdown",
      "metadata": {
        "id": "BajcuWzS4uRn"
      },
      "source": [
        "# **From the 40's, there's a significant increase in airplane crashes, which must likely be because of World War II (1939 - 1945). The highest peaks are between 1946 and 1994. The year with most accidents is 1989, with 83 occurences.**"
      ]
    },
    {
      "cell_type": "markdown",
      "metadata": {
        "id": "VLcJFmrU8MQu"
      },
      "source": [
        "**People Boarding Various Airplanes by Year**"
      ]
    },
    {
      "cell_type": "code",
      "metadata": {
        "id": "bJUAFbdN8U4P"
      },
      "source": [
        "people_board_per_year = airline_data[['Year', 'all_aboard']].groupby('Year').count()\n",
        "people_board_per_year = people_board_per_year.reset_index()"
      ],
      "execution_count": null,
      "outputs": []
    },
    {
      "cell_type": "code",
      "metadata": {
        "colab": {
          "base_uri": "https://localhost:8080/",
          "height": 419
        },
        "id": "hiayz-uF81vP",
        "outputId": "0ad88ae3-d234-4c9a-8a70-9c5bdc737be1"
      },
      "source": [
        "people_board_per_year"
      ],
      "execution_count": null,
      "outputs": [
        {
          "output_type": "execute_result",
          "data": {
            "text/html": [
              "<div>\n",
              "<style scoped>\n",
              "    .dataframe tbody tr th:only-of-type {\n",
              "        vertical-align: middle;\n",
              "    }\n",
              "\n",
              "    .dataframe tbody tr th {\n",
              "        vertical-align: top;\n",
              "    }\n",
              "\n",
              "    .dataframe thead th {\n",
              "        text-align: right;\n",
              "    }\n",
              "</style>\n",
              "<table border=\"1\" class=\"dataframe\">\n",
              "  <thead>\n",
              "    <tr style=\"text-align: right;\">\n",
              "      <th></th>\n",
              "      <th>Year</th>\n",
              "      <th>all_aboard</th>\n",
              "    </tr>\n",
              "  </thead>\n",
              "  <tbody>\n",
              "    <tr>\n",
              "      <th>0</th>\n",
              "      <td>1908</td>\n",
              "      <td>1</td>\n",
              "    </tr>\n",
              "    <tr>\n",
              "      <th>1</th>\n",
              "      <td>1909</td>\n",
              "      <td>1</td>\n",
              "    </tr>\n",
              "    <tr>\n",
              "      <th>2</th>\n",
              "      <td>1912</td>\n",
              "      <td>1</td>\n",
              "    </tr>\n",
              "    <tr>\n",
              "      <th>3</th>\n",
              "      <td>1913</td>\n",
              "      <td>3</td>\n",
              "    </tr>\n",
              "    <tr>\n",
              "      <th>4</th>\n",
              "      <td>1915</td>\n",
              "      <td>2</td>\n",
              "    </tr>\n",
              "    <tr>\n",
              "      <th>...</th>\n",
              "      <td>...</td>\n",
              "      <td>...</td>\n",
              "    </tr>\n",
              "    <tr>\n",
              "      <th>106</th>\n",
              "      <td>2017</td>\n",
              "      <td>15</td>\n",
              "    </tr>\n",
              "    <tr>\n",
              "      <th>107</th>\n",
              "      <td>2018</td>\n",
              "      <td>19</td>\n",
              "    </tr>\n",
              "    <tr>\n",
              "      <th>108</th>\n",
              "      <td>2019</td>\n",
              "      <td>13</td>\n",
              "    </tr>\n",
              "    <tr>\n",
              "      <th>109</th>\n",
              "      <td>2020</td>\n",
              "      <td>8</td>\n",
              "    </tr>\n",
              "    <tr>\n",
              "      <th>110</th>\n",
              "      <td>2021</td>\n",
              "      <td>7</td>\n",
              "    </tr>\n",
              "  </tbody>\n",
              "</table>\n",
              "<p>111 rows × 2 columns</p>\n",
              "</div>"
            ],
            "text/plain": [
              "     Year  all_aboard\n",
              "0    1908           1\n",
              "1    1909           1\n",
              "2    1912           1\n",
              "3    1913           3\n",
              "4    1915           2\n",
              "..    ...         ...\n",
              "106  2017          15\n",
              "107  2018          19\n",
              "108  2019          13\n",
              "109  2020           8\n",
              "110  2021           7\n",
              "\n",
              "[111 rows x 2 columns]"
            ]
          },
          "metadata": {},
          "execution_count": 18
        }
      ]
    },
    {
      "cell_type": "markdown",
      "metadata": {
        "id": "iw4U90QC88X-"
      },
      "source": [
        "**Plot using Seaborn :**"
      ]
    },
    {
      "cell_type": "code",
      "metadata": {
        "colab": {
          "base_uri": "https://localhost:8080/",
          "height": 421
        },
        "id": "kKsKpy1V8_Y9",
        "outputId": "f2c7d17f-b180-4c2a-9621-50eab64a7e65"
      },
      "source": [
        "plt.figure(figsize=(12,6))\n",
        "sns.lineplot(x = 'Year', y = 'all_aboard',marker = \".\",data = people_board_per_year)\n",
        "plt.title('Total of People Aboard Airplanes per Year')\n",
        "plt.xlabel('Years')\n",
        "plt.ylabel('Count')"
      ],
      "execution_count": null,
      "outputs": [
        {
          "output_type": "execute_result",
          "data": {
            "text/plain": [
              "Text(0, 0.5, 'Count')"
            ]
          },
          "metadata": {},
          "execution_count": 19
        },
        {
          "output_type": "display_data",
          "data": {
            "image/png": "[encoded data removed]",
            "text/plain": [
              "<Figure size 864x432 with 1 Axes>"
            ]
          },
          "metadata": {
            "needs_background": "light"
          }
        }
      ]
    },
    {
      "cell_type": "markdown",
      "metadata": {
        "id": "ID94-6NQ-cHe"
      },
      "source": [
        "# **From the 40's, the number of people aboard airplanes starts to increase. From 1946 to 2000 is where we have most people aboard, the same years with most plane crashes and fatalities.**"
      ]
    },
    {
      "cell_type": "markdown",
      "metadata": {
        "id": "mQ_DyHaT-lbN"
      },
      "source": [
        "**Let's Calculate Correlation Coefficients for People boarding & fatalities.**"
      ]
    },
    {
      "cell_type": "code",
      "metadata": {
        "colab": {
          "base_uri": "https://localhost:8080/"
        },
        "id": "h7L0Vwvy-5j2",
        "outputId": "a4f45071-5654-460a-88ea-b5e5316c16c9"
      },
      "source": [
        "sts.spearmanr(airline_data.all_fatalities, airline_data.all_aboard)"
      ],
      "execution_count": null,
      "outputs": [
        {
          "output_type": "execute_result",
          "data": {
            "text/plain": [
              "SpearmanrResult(correlation=0.6800923018820116, pvalue=0.0)"
            ]
          },
          "metadata": {},
          "execution_count": 20
        }
      ]
    },
    {
      "cell_type": "markdown",
      "metadata": {
        "id": "IZkZBK7vAAae"
      },
      "source": [
        "# **The coefficients suggests a pretty high correlation between the number of fatalities and people aboard.**"
      ]
    },
    {
      "cell_type": "markdown",
      "metadata": {
        "id": "W8iC23kwCfAz"
      },
      "source": [
        "# **So from the above data we can infer that to avoid fatalities/deaths relating to airlines there should be a check in the total number of passengers boarding the plane since it is evident that higher number of passengers boarding will likely to cause an accident.**"
      ]
    },
    {
      "cell_type": "markdown",
      "metadata": {
        "id": "PlMkfJxCgsMu"
      },
      "source": [
        "**Creating Country Column from Location Column**"
      ]
    },
    {
      "cell_type": "code",
      "metadata": {
        "id": "J2oobmhRgwdG"
      },
      "source": [
        "def split_country(x):\n",
        "  a = x.split(\",\")[-1]\n",
        "  return a.replace(\" \", \"\")\n"
      ],
      "execution_count": null,
      "outputs": []
    },
    {
      "cell_type": "code",
      "metadata": {
        "id": "cQMc5HPxhR0N"
      },
      "source": [
        "airline_data['Country'] = airline_data['location'].apply(split_country)"
      ],
      "execution_count": null,
      "outputs": []
    },
    {
      "cell_type": "code",
      "metadata": {
        "colab": {
          "base_uri": "https://localhost:8080/",
          "height": 479
        },
        "id": "_upjYfYihhrN",
        "outputId": "8dc07acf-95c7-449f-90d9-4233026dac6a"
      },
      "source": [
        "airline_data.head()"
      ],
      "execution_count": null,
      "outputs": [
        {
          "output_type": "execute_result",
          "data": {
            "text/html": [
              "<div>\n",
              "<style scoped>\n",
              "    .dataframe tbody tr th:only-of-type {\n",
              "        vertical-align: middle;\n",
              "    }\n",
              "\n",
              "    .dataframe tbody tr th {\n",
              "        vertical-align: top;\n",
              "    }\n",
              "\n",
              "    .dataframe thead th {\n",
              "        text-align: right;\n",
              "    }\n",
              "</style>\n",
              "<table border=\"1\" class=\"dataframe\">\n",
              "  <thead>\n",
              "    <tr style=\"text-align: right;\">\n",
              "      <th></th>\n",
              "      <th>date</th>\n",
              "      <th>Time</th>\n",
              "      <th>location</th>\n",
              "      <th>operator</th>\n",
              "      <th>flight_no</th>\n",
              "      <th>route</th>\n",
              "      <th>ac_type</th>\n",
              "      <th>registration</th>\n",
              "      <th>cn_ln</th>\n",
              "      <th>all_aboard</th>\n",
              "      <th>passengers_aboard</th>\n",
              "      <th>crew_aboard</th>\n",
              "      <th>all_fatalities</th>\n",
              "      <th>passenger_fatalities</th>\n",
              "      <th>crew_fatalities</th>\n",
              "      <th>ground</th>\n",
              "      <th>summary</th>\n",
              "      <th>Year</th>\n",
              "      <th>hour</th>\n",
              "      <th>Country</th>\n",
              "    </tr>\n",
              "  </thead>\n",
              "  <tbody>\n",
              "    <tr>\n",
              "      <th>0</th>\n",
              "      <td>09/17/1908</td>\n",
              "      <td>17:18</td>\n",
              "      <td>Fort Myer, Virginia</td>\n",
              "      <td>MILITARY - U.S. ARMY</td>\n",
              "      <td>?</td>\n",
              "      <td>Demonstration</td>\n",
              "      <td>Wright Flyer III</td>\n",
              "      <td>?</td>\n",
              "      <td>1</td>\n",
              "      <td>2</td>\n",
              "      <td>1</td>\n",
              "      <td>1</td>\n",
              "      <td>1</td>\n",
              "      <td>1</td>\n",
              "      <td>0</td>\n",
              "      <td>0</td>\n",
              "      <td>During a demonstration flight, a U.S. Army fly...</td>\n",
              "      <td>1908</td>\n",
              "      <td>17</td>\n",
              "      <td>Virginia</td>\n",
              "    </tr>\n",
              "    <tr>\n",
              "      <th>1</th>\n",
              "      <td>09/07/1909</td>\n",
              "      <td>00:00</td>\n",
              "      <td>Juvisy-sur-Orge, France</td>\n",
              "      <td>?</td>\n",
              "      <td>?</td>\n",
              "      <td>Air show</td>\n",
              "      <td>Wright Byplane</td>\n",
              "      <td>SC1</td>\n",
              "      <td>?</td>\n",
              "      <td>1</td>\n",
              "      <td>0</td>\n",
              "      <td>1</td>\n",
              "      <td>1</td>\n",
              "      <td>0</td>\n",
              "      <td>0</td>\n",
              "      <td>0</td>\n",
              "      <td>Eugene Lefebvre was the first pilot to ever be...</td>\n",
              "      <td>1909</td>\n",
              "      <td>0</td>\n",
              "      <td>France</td>\n",
              "    </tr>\n",
              "    <tr>\n",
              "      <th>2</th>\n",
              "      <td>07/12/1912</td>\n",
              "      <td>06:30</td>\n",
              "      <td>Atlantic City, New Jersey</td>\n",
              "      <td>MILITARY - U.S. NAVY</td>\n",
              "      <td>?</td>\n",
              "      <td>Test flight</td>\n",
              "      <td>Dirigible</td>\n",
              "      <td>?</td>\n",
              "      <td>?</td>\n",
              "      <td>5</td>\n",
              "      <td>0</td>\n",
              "      <td>5</td>\n",
              "      <td>5</td>\n",
              "      <td>0</td>\n",
              "      <td>5</td>\n",
              "      <td>0</td>\n",
              "      <td>First U.S. dirigible Akron exploded just offsh...</td>\n",
              "      <td>1912</td>\n",
              "      <td>6</td>\n",
              "      <td>NewJersey</td>\n",
              "    </tr>\n",
              "    <tr>\n",
              "      <th>3</th>\n",
              "      <td>08/06/1913</td>\n",
              "      <td>00:00</td>\n",
              "      <td>Victoria, British Columbia, Canada</td>\n",
              "      <td>PRIVATE</td>\n",
              "      <td>?</td>\n",
              "      <td>?</td>\n",
              "      <td>Curtiss seaplane</td>\n",
              "      <td>?</td>\n",
              "      <td>?</td>\n",
              "      <td>1</td>\n",
              "      <td>0</td>\n",
              "      <td>1</td>\n",
              "      <td>1</td>\n",
              "      <td>0</td>\n",
              "      <td>1</td>\n",
              "      <td>0</td>\n",
              "      <td>The first fatal airplane accident in Canada oc...</td>\n",
              "      <td>1913</td>\n",
              "      <td>0</td>\n",
              "      <td>Canada</td>\n",
              "    </tr>\n",
              "    <tr>\n",
              "      <th>4</th>\n",
              "      <td>09/09/1913</td>\n",
              "      <td>18:30</td>\n",
              "      <td>Over the North Sea</td>\n",
              "      <td>MILITARY - GERMAN NAVY</td>\n",
              "      <td>?</td>\n",
              "      <td>?</td>\n",
              "      <td>Zeppelin L-1 (airship)</td>\n",
              "      <td>?</td>\n",
              "      <td>?</td>\n",
              "      <td>20</td>\n",
              "      <td>?</td>\n",
              "      <td>?</td>\n",
              "      <td>14</td>\n",
              "      <td>?</td>\n",
              "      <td>?</td>\n",
              "      <td>0</td>\n",
              "      <td>The airship flew into a thunderstorm and encou...</td>\n",
              "      <td>1913</td>\n",
              "      <td>18</td>\n",
              "      <td>OvertheNorthSea</td>\n",
              "    </tr>\n",
              "  </tbody>\n",
              "</table>\n",
              "</div>"
            ],
            "text/plain": [
              "         date   Time  ... hour          Country\n",
              "0  09/17/1908  17:18  ...   17         Virginia\n",
              "1  09/07/1909  00:00  ...    0           France\n",
              "2  07/12/1912  06:30  ...    6        NewJersey\n",
              "3  08/06/1913  00:00  ...    0           Canada\n",
              "4  09/09/1913  18:30  ...   18  OvertheNorthSea\n",
              "\n",
              "[5 rows x 20 columns]"
            ]
          },
          "metadata": {},
          "execution_count": 23
        }
      ]
    },
    {
      "cell_type": "markdown",
      "metadata": {
        "id": "VOa5Wd3zht3c"
      },
      "source": [
        "**Since we see a lot of US states in the data - we can still further group these into single \"USA\" variable.**"
      ]
    },
    {
      "cell_type": "code",
      "metadata": {
        "id": "886kQOqviijl"
      },
      "source": [
        "x = \"Alabama, Alaska, AmericanSamoa, Arizona, Arkansas, California, Colorado, Connecticut, Delaware, DistrictofColumbia, Florida, Georgia, Guam, Hawaii, Idaho, \\\n",
        "Illinois, Indiana, Iowa, Kansas, Kentucky, Louisiana, Maine, Maryland, Massachusetts, Michigan, Minnesota, Minor OutlyingIslands, Mississippi, Missouri, Montana, \\\n",
        "Nebraska, Nevada, NewHampshire, NewJersey, NewMexico, NewYork, NorthCarolina, NorthDakota, NorthernMarianaIslands, Ohio, Oklahoma, Oregon, Pennsylvania, PuertoRico,\\\n",
        " Rhode Island, South Carolina, South Dakota, Tennessee, Texas, U.S.VirginIslands, Utah, Vermont, Virginia, Washington, West Virginia, Wisconsin, Wyoming\"\n",
        "x=x.split(\", \")\n",
        "x=pd.Series(x)"
      ],
      "execution_count": null,
      "outputs": []
    },
    {
      "cell_type": "code",
      "metadata": {
        "colab": {
          "base_uri": "https://localhost:8080/",
          "height": 479
        },
        "id": "5z7v2WfZimLd",
        "outputId": "354f4e78-16fd-4ee2-d225-909cb6977587"
      },
      "source": [
        "indices = airline_data['Country'].isin(x)\n",
        "\n",
        "airline_data.loc[indices ,'Country'] = 'USA'\n",
        "airline_data.head()"
      ],
      "execution_count": null,
      "outputs": [
        {
          "output_type": "execute_result",
          "data": {
            "text/html": [
              "<div>\n",
              "<style scoped>\n",
              "    .dataframe tbody tr th:only-of-type {\n",
              "        vertical-align: middle;\n",
              "    }\n",
              "\n",
              "    .dataframe tbody tr th {\n",
              "        vertical-align: top;\n",
              "    }\n",
              "\n",
              "    .dataframe thead th {\n",
              "        text-align: right;\n",
              "    }\n",
              "</style>\n",
              "<table border=\"1\" class=\"dataframe\">\n",
              "  <thead>\n",
              "    <tr style=\"text-align: right;\">\n",
              "      <th></th>\n",
              "      <th>date</th>\n",
              "      <th>Time</th>\n",
              "      <th>location</th>\n",
              "      <th>operator</th>\n",
              "      <th>flight_no</th>\n",
              "      <th>route</th>\n",
              "      <th>ac_type</th>\n",
              "      <th>registration</th>\n",
              "      <th>cn_ln</th>\n",
              "      <th>all_aboard</th>\n",
              "      <th>passengers_aboard</th>\n",
              "      <th>crew_aboard</th>\n",
              "      <th>all_fatalities</th>\n",
              "      <th>passenger_fatalities</th>\n",
              "      <th>crew_fatalities</th>\n",
              "      <th>ground</th>\n",
              "      <th>summary</th>\n",
              "      <th>Year</th>\n",
              "      <th>hour</th>\n",
              "      <th>Country</th>\n",
              "    </tr>\n",
              "  </thead>\n",
              "  <tbody>\n",
              "    <tr>\n",
              "      <th>0</th>\n",
              "      <td>09/17/1908</td>\n",
              "      <td>17:18</td>\n",
              "      <td>Fort Myer, Virginia</td>\n",
              "      <td>MILITARY - U.S. ARMY</td>\n",
              "      <td>?</td>\n",
              "      <td>Demonstration</td>\n",
              "      <td>Wright Flyer III</td>\n",
              "      <td>?</td>\n",
              "      <td>1</td>\n",
              "      <td>2</td>\n",
              "      <td>1</td>\n",
              "      <td>1</td>\n",
              "      <td>1</td>\n",
              "      <td>1</td>\n",
              "      <td>0</td>\n",
              "      <td>0</td>\n",
              "      <td>During a demonstration flight, a U.S. Army fly...</td>\n",
              "      <td>1908</td>\n",
              "      <td>17</td>\n",
              "      <td>USA</td>\n",
              "    </tr>\n",
              "    <tr>\n",
              "      <th>1</th>\n",
              "      <td>09/07/1909</td>\n",
              "      <td>00:00</td>\n",
              "      <td>Juvisy-sur-Orge, France</td>\n",
              "      <td>?</td>\n",
              "      <td>?</td>\n",
              "      <td>Air show</td>\n",
              "      <td>Wright Byplane</td>\n",
              "      <td>SC1</td>\n",
              "      <td>?</td>\n",
              "      <td>1</td>\n",
              "      <td>0</td>\n",
              "      <td>1</td>\n",
              "      <td>1</td>\n",
              "      <td>0</td>\n",
              "      <td>0</td>\n",
              "      <td>0</td>\n",
              "      <td>Eugene Lefebvre was the first pilot to ever be...</td>\n",
              "      <td>1909</td>\n",
              "      <td>0</td>\n",
              "      <td>France</td>\n",
              "    </tr>\n",
              "    <tr>\n",
              "      <th>2</th>\n",
              "      <td>07/12/1912</td>\n",
              "      <td>06:30</td>\n",
              "      <td>Atlantic City, New Jersey</td>\n",
              "      <td>MILITARY - U.S. NAVY</td>\n",
              "      <td>?</td>\n",
              "      <td>Test flight</td>\n",
              "      <td>Dirigible</td>\n",
              "      <td>?</td>\n",
              "      <td>?</td>\n",
              "      <td>5</td>\n",
              "      <td>0</td>\n",
              "      <td>5</td>\n",
              "      <td>5</td>\n",
              "      <td>0</td>\n",
              "      <td>5</td>\n",
              "      <td>0</td>\n",
              "      <td>First U.S. dirigible Akron exploded just offsh...</td>\n",
              "      <td>1912</td>\n",
              "      <td>6</td>\n",
              "      <td>USA</td>\n",
              "    </tr>\n",
              "    <tr>\n",
              "      <th>3</th>\n",
              "      <td>08/06/1913</td>\n",
              "      <td>00:00</td>\n",
              "      <td>Victoria, British Columbia, Canada</td>\n",
              "      <td>PRIVATE</td>\n",
              "      <td>?</td>\n",
              "      <td>?</td>\n",
              "      <td>Curtiss seaplane</td>\n",
              "      <td>?</td>\n",
              "      <td>?</td>\n",
              "      <td>1</td>\n",
              "      <td>0</td>\n",
              "      <td>1</td>\n",
              "      <td>1</td>\n",
              "      <td>0</td>\n",
              "      <td>1</td>\n",
              "      <td>0</td>\n",
              "      <td>The first fatal airplane accident in Canada oc...</td>\n",
              "      <td>1913</td>\n",
              "      <td>0</td>\n",
              "      <td>Canada</td>\n",
              "    </tr>\n",
              "    <tr>\n",
              "      <th>4</th>\n",
              "      <td>09/09/1913</td>\n",
              "      <td>18:30</td>\n",
              "      <td>Over the North Sea</td>\n",
              "      <td>MILITARY - GERMAN NAVY</td>\n",
              "      <td>?</td>\n",
              "      <td>?</td>\n",
              "      <td>Zeppelin L-1 (airship)</td>\n",
              "      <td>?</td>\n",
              "      <td>?</td>\n",
              "      <td>20</td>\n",
              "      <td>?</td>\n",
              "      <td>?</td>\n",
              "      <td>14</td>\n",
              "      <td>?</td>\n",
              "      <td>?</td>\n",
              "      <td>0</td>\n",
              "      <td>The airship flew into a thunderstorm and encou...</td>\n",
              "      <td>1913</td>\n",
              "      <td>18</td>\n",
              "      <td>OvertheNorthSea</td>\n",
              "    </tr>\n",
              "  </tbody>\n",
              "</table>\n",
              "</div>"
            ],
            "text/plain": [
              "         date   Time  ... hour          Country\n",
              "0  09/17/1908  17:18  ...   17              USA\n",
              "1  09/07/1909  00:00  ...    0           France\n",
              "2  07/12/1912  06:30  ...    6              USA\n",
              "3  08/06/1913  00:00  ...    0           Canada\n",
              "4  09/09/1913  18:30  ...   18  OvertheNorthSea\n",
              "\n",
              "[5 rows x 20 columns]"
            ]
          },
          "metadata": {},
          "execution_count": 25
        }
      ]
    },
    {
      "cell_type": "markdown",
      "metadata": {
        "id": "Ipa7xfAvi5fH"
      },
      "source": [
        "# **Top 15 countries by crash locations**"
      ]
    },
    {
      "cell_type": "code",
      "metadata": {
        "colab": {
          "base_uri": "https://localhost:8080/",
          "height": 655
        },
        "id": "xQ7KJu3Vi87U",
        "outputId": "3f914ed7-c9ea-41e2-e3dc-5a1572facba3"
      },
      "source": [
        "airline_data['Country'].value_counts()[:15].plot(kind='barh',  figsize=(20,10), rot=20, fontsize=22, title=\"Top 15 countries by crash locations\")\n"
      ],
      "execution_count": null,
      "outputs": [
        {
          "output_type": "execute_result",
          "data": {
            "text/plain": [
              "<matplotlib.axes._subplots.AxesSubplot at 0x7f1f268fdc90>"
            ]
          },
          "metadata": {},
          "execution_count": 26
        },
        {
          "output_type": "display_data",
          "data": {
            "image/png": "[encoded data removed]",
            "text/plain": [
              "<Figure size 1440x720 with 1 Axes>"
            ]
          },
          "metadata": {
            "needs_background": "light"
          }
        }
      ]
    },
    {
      "cell_type": "code",
      "metadata": {
        "id": "iGSBDyojoeQD"
      },
      "source": [
        "airline_data.replace('?',0,inplace = True)"
      ],
      "execution_count": null,
      "outputs": []
    },
    {
      "cell_type": "markdown",
      "metadata": {
        "id": "Es-RJnGDkG80"
      },
      "source": [
        "# **Top 15 location based on Fatalities Per Crash (FPC)**"
      ]
    },
    {
      "cell_type": "code",
      "metadata": {
        "id": "2KAmQ5bopUgO"
      },
      "source": [
        "airline_data[\"all_fatalities\"] = pd.to_numeric(airline_data[\"all_fatalities\"], downcast=\"float\")"
      ],
      "execution_count": null,
      "outputs": []
    },
    {
      "cell_type": "code",
      "metadata": {
        "colab": {
          "base_uri": "https://localhost:8080/",
          "height": 707
        },
        "id": "oBt6HOU5o3QT",
        "outputId": "f4e4513d-6bac-4afe-b4a4-c53b4e83d92e"
      },
      "source": [
        "airline_data.groupby(['Country'], sort=True)['all_fatalities'].mean().sort_values(ascending=False)[:15].plot(kind='barh', figsize=(20,10), rot=20, fontsize=22, title=\"Top 15 locations by FPC\")"
      ],
      "execution_count": null,
      "outputs": [
        {
          "output_type": "execute_result",
          "data": {
            "text/plain": [
              "<matplotlib.axes._subplots.AxesSubplot at 0x7f1f3bb00d10>"
            ]
          },
          "metadata": {},
          "execution_count": 34
        },
        {
          "output_type": "display_data",
          "data": {
            "image/png": "[encoded data removed]",
            "text/plain": [
              "<Figure size 1440x720 with 1 Axes>"
            ]
          },
          "metadata": {
            "needs_background": "light"
          }
        }
      ]
    },
    {
      "cell_type": "markdown",
      "metadata": {
        "id": "bICzP6uypvn7"
      },
      "source": [
        "# **We see that on the country level, the countries with high number of crashes do not necessarily correspond to high FPC.**\n"
      ]
    },
    {
      "cell_type": "markdown",
      "metadata": {
        "id": "8uPV2_KiqiW6"
      },
      "source": [
        "# **Fatalities by Types of Flight**"
      ]
    },
    {
      "cell_type": "code",
      "metadata": {
        "colab": {
          "base_uri": "https://localhost:8080/",
          "height": 554
        },
        "id": "DUKQKKHXpzus",
        "outputId": "fe4fb51c-9308-4449-a0d8-5e519222d5ab"
      },
      "source": [
        "CrashesByPlaneType = airline_data.groupby('ac_type')['all_fatalities', 'all_aboard'].sum()\n",
        "CrashesByPlaneType = CrashesByPlaneType.sort_values(by='all_fatalities', ascending=False)\n",
        "\n",
        "CrashesByPlaneType[:5].plot.pie(y='all_fatalities', figsize=(8,8) ,colors = ['firebrick', 'lightskyblue' ,'y' , 'darkseagreen' , 'darkolivegreen']) \n",
        "plt.title('Total number of Fatalities by Type of flight', loc='Center', fontsize=14)"
      ],
      "execution_count": null,
      "outputs": [
        {
          "output_type": "stream",
          "text": [
            "/usr/local/lib/python3.7/dist-packages/ipykernel_launcher.py:1: FutureWarning: Indexing with multiple keys (implicitly converted to a tuple of keys) will be deprecated, use a list instead.\n",
            "  \"\"\"Entry point for launching an IPython kernel.\n"
          ],
          "name": "stderr"
        },
        {
          "output_type": "execute_result",
          "data": {
            "text/plain": [
              "Text(0.5, 1.0, 'Total number of Fatalities by Type of flight')"
            ]
          },
          "metadata": {},
          "execution_count": 35
        },
        {
          "output_type": "display_data",
          "data": {
            "image/png": "[encoded data removed]",
            "text/plain": [
              "<Figure size 576x576 with 1 Axes>"
            ]
          },
          "metadata": {}
        }
      ]
    }
  ]
}