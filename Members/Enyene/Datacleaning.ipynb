{
  "nbformat": 4,
  "nbformat_minor": 0,
  "metadata": {
    "colab": {
      "name": "stageA project.ipynb",
      "provenance": [],
      "collapsed_sections": [],
      "authorship_tag": "ABX9TyP/kkPU1Hx3xYpb9tT1Ht2Y",
      "include_colab_link": true
    },
    "kernelspec": {
      "name": "python3",
      "display_name": "Python 3"
    },
    "language_info": {
      "name": "python"
    }
  },
  "cells": [
    {
      "cell_type": "markdown",
      "metadata": {
        "id": "view-in-github",
        "colab_type": "text"
      },
      "source": [
        "<a href=\"https://colab.research.google.com/github/enyeneraph/AVIATION-AIRPLANE-FLIGHTS/blob/main/Members/Enyene/Datacleaning.ipynb\" target=\"_parent\"><img src=\"https://colab.research.google.com/assets/colab-badge.svg\" alt=\"Open In Colab\"/></a>"
      ]
    },
    {
      "cell_type": "markdown",
      "metadata": {
        "id": "EQVUYaxE27am"
      },
      "source": [
        "#**Importing the necessary libraries for the project**#"
      ]
    },
    {
      "cell_type": "code",
      "metadata": {
        "id": "zmY1VfPC2TEi"
      },
      "source": [
        "import pandas as pd\n",
        "import numpy as np\n",
        "import seaborn as sns\n",
        "import matplotlib.pyplot as plt\n",
        "%matplotlib inline\n",
        "\n"
      ],
      "execution_count": 211,
      "outputs": []
    },
    {
      "cell_type": "code",
      "metadata": {
        "id": "FCbstyJQ3SjY"
      },
      "source": [
        "airplane_dataset = pd.read_csv('https://raw.githubusercontent.com/enyeneraph/AVIATION-AIRPLANE-FLIGHTS/main/Airplane_crashes_dataset_since_1908.csv', parse_dates= [\"date\"])"
      ],
      "execution_count": 175,
      "outputs": []
    },
    {
      "cell_type": "code",
      "metadata": {
        "id": "8TzziYl4Cm5v"
      },
      "source": [
        "airplane_dataset.sample(5)"
      ],
      "execution_count": null,
      "outputs": []
    },
    {
      "cell_type": "markdown",
      "metadata": {
        "id": "R8bxNy5NNJew"
      },
      "source": [
        "# **Data Cleaning/Processing**"
      ]
    },
    {
      "cell_type": "markdown",
      "metadata": {
        "id": "JFwwRh860VUq"
      },
      "source": [
        "###**Dropping unnecessary columns**\n",
        "\n",
        "**I believe the flight_no, registration, cn/In columns are not necessary to our project.So they will be dropped.**\n",
        "\n"
      ]
    },
    {
      "cell_type": "code",
      "metadata": {
        "id": "75iaQsQN1jLZ"
      },
      "source": [
        "#Dropping the flight_no, registration, cn/In columns.\n",
        "\n",
        "airplane_dataset.drop(columns=['registration', 'flight_no', 'cn_ln'], inplace=True)"
      ],
      "execution_count": 177,
      "outputs": []
    },
    {
      "cell_type": "markdown",
      "metadata": {
        "id": "01Ua2NHIGxkS"
      },
      "source": [
        "###**Checking for duplicate values in the dataset**###\n",
        "\n"
      ]
    },
    {
      "cell_type": "code",
      "metadata": {
        "id": "QN2kldNvFQzJ",
        "colab": {
          "base_uri": "https://localhost:8080/"
        },
        "outputId": "d8295188-224e-4b9d-b3f1-0c3b969f9d4e"
      },
      "source": [
        "airplane_dataset.duplicated().sum()"
      ],
      "execution_count": 178,
      "outputs": [
        {
          "output_type": "execute_result",
          "data": {
            "text/plain": [
              "0"
            ]
          },
          "metadata": {},
          "execution_count": 178
        }
      ]
    },
    {
      "cell_type": "markdown",
      "metadata": {
        "id": "aS3NNC0U3ujP"
      },
      "source": [
        "**There are no duplicate entries in the dataset**"
      ]
    },
    {
      "cell_type": "markdown",
      "metadata": {
        "id": "EI80ubfZ_4lE"
      },
      "source": [
        "### **Cleaning the Columns**"
      ]
    },
    {
      "cell_type": "code",
      "metadata": {
        "colab": {
          "base_uri": "https://localhost:8080/"
        },
        "id": "Rq7veHgbACJ7",
        "collapsed": true,
        "outputId": "8d5224ef-1788-46ee-f63b-79340eb8857f"
      },
      "source": [
        "#null values are represented as '?' in the dataset, so we are going to change that to pandas' NaN\n",
        "#First, lets see how many '?' values are in the dataset\n",
        "airplane_dataset[airplane_dataset == '?'].count()"
      ],
      "execution_count": 179,
      "outputs": [
        {
          "output_type": "execute_result",
          "data": {
            "text/plain": [
              "date                       0\n",
              "time                    1504\n",
              "location                   5\n",
              "operator                  10\n",
              "route                    762\n",
              "ac_type                   13\n",
              "all_aboard                17\n",
              "passengers_aboard        221\n",
              "crew_aboard              219\n",
              "all_fatalities             8\n",
              "passenger_fatalities     235\n",
              "crew_fatalities          235\n",
              "ground                    44\n",
              "summary                   59\n",
              "dtype: int64"
            ]
          },
          "metadata": {},
          "execution_count": 179
        }
      ]
    },
    {
      "cell_type": "code",
      "metadata": {
        "id": "uQFpUy15Jg81"
      },
      "source": [
        "#Now to convert '?' to Nan\n",
        "airplane_dataset.replace('?', np.nan, inplace=True)"
      ],
      "execution_count": 180,
      "outputs": []
    },
    {
      "cell_type": "code",
      "metadata": {
        "colab": {
          "base_uri": "https://localhost:8080/"
        },
        "id": "MSPhkjb5KaYj",
        "collapsed": true,
        "outputId": "ebe8376b-4a9b-4006-b825-7b56ebf6e3cd"
      },
      "source": [
        "#checking null values\n",
        "airplane_dataset.isna().sum()"
      ],
      "execution_count": 256,
      "outputs": [
        {
          "output_type": "execute_result",
          "data": {
            "text/plain": [
              "date                       0\n",
              "time                    1504\n",
              "location                   5\n",
              "operator                  10\n",
              "route                    762\n",
              "ac_type                   13\n",
              "all_aboard                17\n",
              "passengers_aboard        221\n",
              "crew_aboard              219\n",
              "all_fatalities             8\n",
              "passenger_fatalities     235\n",
              "crew_fatalities          235\n",
              "ground                    44\n",
              "summary                   59\n",
              "countries                  5\n",
              "year                       0\n",
              "dtype: int64"
            ]
          },
          "metadata": {},
          "execution_count": 256
        }
      ]
    },
    {
      "cell_type": "code",
      "metadata": {
        "id": "P5Jf6xgB38xs",
        "colab": {
          "base_uri": "https://localhost:8080/"
        },
        "outputId": "b9d86195-b347-4be8-d4f0-6d02191aba3c"
      },
      "source": [
        "\n",
        "#examining and cleaning the operator column\n",
        "airplane_dataset['operator'].replace({'Military -Royal Air Force':'Military - Royal Air Force'}, inplace= True)\n",
        "\n",
        "len(airplane_dataset['operator'].unique())\n",
        "# airplane_dataset['operator'].value_counts().head(50)\n"
      ],
      "execution_count": 183,
      "outputs": [
        {
          "output_type": "execute_result",
          "data": {
            "text/plain": [
              "2267"
            ]
          },
          "metadata": {},
          "execution_count": 183
        }
      ]
    },
    {
      "cell_type": "markdown",
      "metadata": {
        "id": "T_9xZkp5c0_m"
      },
      "source": [
        "#**Feature Engineering**"
      ]
    },
    {
      "cell_type": "markdown",
      "metadata": {
        "id": "Y8rjxO5IdHhU"
      },
      "source": [
        "**Extracting country of accident from location**"
      ]
    },
    {
      "cell_type": "code",
      "metadata": {
        "id": "DTWJtH9UczAm"
      },
      "source": [
        "#extracting country from location\n",
        "\n",
        "countries = airplane_dataset['location'].str.split(',')\n",
        "for index, value in countries[countries.notna()].iteritems():\n",
        "  countries[index] = value[-1]\n",
        "airplane_dataset['countries'] = countries.str.strip()"
      ],
      "execution_count": 188,
      "outputs": []
    },
    {
      "cell_type": "code",
      "metadata": {
        "colab": {
          "base_uri": "https://localhost:8080/"
        },
        "id": "tZzXaS-8a9uk",
        "outputId": "03f656c4-6535-4a33-8c2b-ae0efbcf2478"
      },
      "source": [
        "airplane_dataset['countries']"
      ],
      "execution_count": 189,
      "outputs": [
        {
          "output_type": "execute_result",
          "data": {
            "text/plain": [
              "0                 Virginia\n",
              "1                   France\n",
              "2               New Jersey\n",
              "3                   Canada\n",
              "4       Over the North Sea\n",
              "               ...        \n",
              "5003                Alaska\n",
              "5004               Nigeria\n",
              "5005               Myanmar\n",
              "5006           Philippines\n",
              "5007                Russia\n",
              "Name: countries, Length: 5008, dtype: object"
            ]
          },
          "metadata": {},
          "execution_count": 189
        }
      ]
    },
    {
      "cell_type": "code",
      "metadata": {
        "id": "NhenOSwPRNJf"
      },
      "source": [
        "us_regions = ['Alabama', 'Montgomery', 'Alaska','Juneau', 'Arizona', 'Phoenix', 'Arkansas', 'Little Rock', 'California', 'Sacremento','Colorado', 'Denver', 'Connecticut', 'Hartford','Delaware', 'Dover',\n",
        "'Florida', 'Tallahassee','Georgia', 'Atlanta', 'Hawaii','Honolulu', 'Idaho', 'Boise','Illinois', 'Springfield', 'Indiana', 'Indianapolis', 'Iowa', 'Des Moines', 'Kansas', 'Topeka', 'Kentucky', 'Frankfort', 'Louisiana', 'Baton Rouge',\n",
        "'Maine', 'Augusta','Maryland', 'Annapolis','Massachusetts', 'Boston','Michigan', 'Lansing', 'Minnesota', 'St. Paul', 'Mississippi', 'Jackson', 'Missouri', 'Jefferson City',\n",
        "'Montana', 'Helena', 'Nebraska', 'Lincoln', 'Nevada', 'Carson City', 'New Hampshire', 'Concord', 'New Jersey', 'Trenton', 'New Mexico', 'Santa Fe', 'New York', 'Albany','North Carolina', 'Raleigh',\n",
        "'North Dakota', 'Bismarck', 'Ohio', 'Columbus','Oklahoma', 'Oklahoma City','Oregon', 'Salem','Pennsylvania', 'Harrisburg','Rhode Island', 'Providence','South Carolina', 'Columbia','South Dakota',    'Pierre',\n",
        "'Tennessee', 'Nashville','Texas', 'Austin', 'Utah', 'Salt Lake City', 'Vermont' , 'Montpelier', 'Virginia', 'Richmond', 'Washington', 'Olympia', 'West Virginia', 'Charleston', 'Wisconsin', 'Madison',\n",
        "'Wyoming', 'Cheyenne']"
      ],
      "execution_count": 190,
      "outputs": []
    },
    {
      "cell_type": "code",
      "metadata": {
        "id": "N5SkhV6crjkC"
      },
      "source": [
        "#replacing states and capitals of USA in the dataset with 'USA'\n",
        "airplane_dataset['countries'].replace(us_regions, 'USA', inplace=True)"
      ],
      "execution_count": 191,
      "outputs": []
    },
    {
      "cell_type": "code",
      "metadata": {
        "id": "jolD-Kg4hwg1"
      },
      "source": [
        "canada_regions = ['Alberta\tEdmonton','British Columbia','Victoria', 'Manitoba', 'Winnipeg', 'Brunswick',\t'New Brunswick'\t'Fredericton', 'Newfoundland and Labrador', \"St. John's\"\n",
        "'Northwest Territories', 'Yellowknife','Nova Scotia','Halifax', 'Nunavut',\t'Iqaluit', 'Ontario', 'Toronto', 'Prince Edward Island',\t'Charlottetown', 'Quebec',\t'Québec City','Saskatchewan','Regina',\n",
        "'Yukon',\t'Whitehorse']"
      ],
      "execution_count": 192,
      "outputs": []
    },
    {
      "cell_type": "code",
      "metadata": {
        "id": "UxyNI_Ua0ubO"
      },
      "source": [
        "#replacing canada states/capitals with Canada\n",
        "\n",
        "airplane_dataset['countries'].replace(canada_regions, 'Canada', inplace = True)"
      ],
      "execution_count": 193,
      "outputs": []
    },
    {
      "cell_type": "code",
      "metadata": {
        "id": "E4AUMeIZnE2u"
      },
      "source": [
        "#adding year column to dataset\n",
        "airplane_dataset['year'] = airplane_dataset['date'].dt.year"
      ],
      "execution_count": 194,
      "outputs": []
    },
    {
      "cell_type": "code",
      "metadata": {
        "colab": {
          "base_uri": "https://localhost:8080/"
        },
        "id": "5YvVVExZn0oA",
        "outputId": "cd755bd0-0a50-4185-ae76-86e9b7355934"
      },
      "source": [
        "airplane_dataset['year']"
      ],
      "execution_count": 195,
      "outputs": [
        {
          "output_type": "execute_result",
          "data": {
            "text/plain": [
              "0       1908\n",
              "1       1909\n",
              "2       1912\n",
              "3       1913\n",
              "4       1913\n",
              "        ... \n",
              "5003    2021\n",
              "5004    2021\n",
              "5005    2021\n",
              "5006    2021\n",
              "5007    2021\n",
              "Name: year, Length: 5008, dtype: int64"
            ]
          },
          "metadata": {},
          "execution_count": 195
        }
      ]
    },
    {
      "cell_type": "markdown",
      "metadata": {
        "id": "my6xGiWhi7EQ"
      },
      "source": [
        "# **Visualization**"
      ]
    },
    {
      "cell_type": "code",
      "metadata": {
        "id": "HFu556ysu9Zj"
      },
      "source": [
        "#growth rate of airplane accidents\n",
        "accidents_per_year = airplane_dataset.groupby('year')['date'].count().reset_index()\n",
        "accidents_per_year"
      ],
      "execution_count": null,
      "outputs": []
    },
    {
      "cell_type": "code",
      "metadata": {
        "id": "H8dAWtAOps41",
        "colab": {
          "base_uri": "https://localhost:8080/",
          "height": 422
        },
        "outputId": "c726eb6b-75bf-4040-cb8c-67bc5e3fa402"
      },
      "source": [
        "\n",
        "#growth rate of airplane accidents\n",
        "plt.figure(figsize= (15, 6))\n",
        "sns.lineplot(x='year', y = 'date', data=accidents_per_year)\n",
        "plt.xlabel('Year')\n",
        "plt.ylabel('Number of accidents')\n",
        "plt.title('Airplane accidents per year since 1908')\n"
      ],
      "execution_count": 220,
      "outputs": [
        {
          "output_type": "execute_result",
          "data": {
            "text/plain": [
              "Text(0.5, 1.0, 'Airplane accidents per year since 1908')"
            ]
          },
          "metadata": {},
          "execution_count": 220
        },
        {
          "output_type": "display_data",
          "data": {
            "image/png": "[encoded data removed]",
            "text/plain": [
              "<Figure size 1080x432 with 1 Axes>"
            ]
          },
          "metadata": {
            "needs_background": "light"
          }
        }
      ]
    },
    {
      "cell_type": "markdown",
      "metadata": {
        "id": "RtmyujkT4mQG"
      },
      "source": [
        "**Countries with the most accidents in the last 21 years**"
      ]
    },
    {
      "cell_type": "code",
      "metadata": {
        "id": "YPml-m1xOe-T"
      },
      "source": [
        "dataset_from_last_21years = airplane_dataset[airplane_dataset['year'].between(2000, 2021)]\n",
        "dataset_from_last_21years= dataset_from_last_21years.groupby('countries')['year'].count().reset_index().nlargest(n= 10, columns= 'year')"
      ],
      "execution_count": 242,
      "outputs": []
    },
    {
      "cell_type": "code",
      "metadata": {
        "colab": {
          "base_uri": "https://localhost:8080/",
          "height": 355
        },
        "id": "MSE204nI5DO1",
        "outputId": "167c5511-9e0b-4bec-bb80-357675dcd1a8"
      },
      "source": [
        "dataset_from_last_21years"
      ],
      "execution_count": 243,
      "outputs": [
        {
          "output_type": "execute_result",
          "data": {
            "text/html": [
              "<div>\n",
              "<style scoped>\n",
              "    .dataframe tbody tr th:only-of-type {\n",
              "        vertical-align: middle;\n",
              "    }\n",
              "\n",
              "    .dataframe tbody tr th {\n",
              "        vertical-align: top;\n",
              "    }\n",
              "\n",
              "    .dataframe thead th {\n",
              "        text-align: right;\n",
              "    }\n",
              "</style>\n",
              "<table border=\"1\" class=\"dataframe\">\n",
              "  <thead>\n",
              "    <tr style=\"text-align: right;\">\n",
              "      <th></th>\n",
              "      <th>countries</th>\n",
              "      <th>year</th>\n",
              "    </tr>\n",
              "  </thead>\n",
              "  <tbody>\n",
              "    <tr>\n",
              "      <th>154</th>\n",
              "      <td>USA</td>\n",
              "      <td>117</td>\n",
              "    </tr>\n",
              "    <tr>\n",
              "      <th>126</th>\n",
              "      <td>Russia</td>\n",
              "      <td>49</td>\n",
              "    </tr>\n",
              "    <tr>\n",
              "      <th>71</th>\n",
              "      <td>Indonesia</td>\n",
              "      <td>35</td>\n",
              "    </tr>\n",
              "    <tr>\n",
              "      <th>26</th>\n",
              "      <td>Canada</td>\n",
              "      <td>24</td>\n",
              "    </tr>\n",
              "    <tr>\n",
              "      <th>21</th>\n",
              "      <td>Brazil</td>\n",
              "      <td>23</td>\n",
              "    </tr>\n",
              "    <tr>\n",
              "      <th>32</th>\n",
              "      <td>Colombia</td>\n",
              "      <td>21</td>\n",
              "    </tr>\n",
              "    <tr>\n",
              "      <th>72</th>\n",
              "      <td>Iran</td>\n",
              "      <td>20</td>\n",
              "    </tr>\n",
              "    <tr>\n",
              "      <th>35</th>\n",
              "      <td>Congo</td>\n",
              "      <td>19</td>\n",
              "    </tr>\n",
              "    <tr>\n",
              "      <th>105</th>\n",
              "      <td>Nepal</td>\n",
              "      <td>16</td>\n",
              "    </tr>\n",
              "    <tr>\n",
              "      <th>160</th>\n",
              "      <td>Venezuela</td>\n",
              "      <td>16</td>\n",
              "    </tr>\n",
              "  </tbody>\n",
              "</table>\n",
              "</div>"
            ],
            "text/plain": [
              "     countries  year\n",
              "154        USA   117\n",
              "126     Russia    49\n",
              "71   Indonesia    35\n",
              "26      Canada    24\n",
              "21      Brazil    23\n",
              "32    Colombia    21\n",
              "72        Iran    20\n",
              "35       Congo    19\n",
              "105      Nepal    16\n",
              "160  Venezuela    16"
            ]
          },
          "metadata": {},
          "execution_count": 243
        }
      ]
    },
    {
      "cell_type": "code",
      "metadata": {
        "colab": {
          "base_uri": "https://localhost:8080/",
          "height": 354
        },
        "id": "-3Q--wHd6B9K",
        "outputId": "df3f5f09-b486-418e-e376-d775fbef0b55"
      },
      "source": [
        "#top 10 countries with most accidents in last_21 years\n",
        "plt.figure(figsize= (7, 4))\n",
        "plt.xticks(rotation= 90)\n",
        "sns.barplot(x='countries', y= 'year', data= dataset_from_last_21years)\n",
        "plt.xlabel('Country')\n",
        "plt.ylabel('Number of accidents')\n",
        "plt.title('Top 10 countries with the most accidents in 2000-2021')\n"
      ],
      "execution_count": 251,
      "outputs": [
        {
          "output_type": "execute_result",
          "data": {
            "text/plain": [
              "Text(0.5, 1.0, 'Top 10 countries with the most accidents in 2000-2021')"
            ]
          },
          "metadata": {},
          "execution_count": 251
        },
        {
          "output_type": "display_data",
          "data": {
            "image/png": "[encoded data removed]",
            "text/plain": [
              "<Figure size 504x288 with 1 Axes>"
            ]
          },
          "metadata": {
            "needs_background": "light"
          }
        }
      ]
    },
    {
      "cell_type": "markdown",
      "metadata": {
        "id": "sCnJG91BCapp"
      },
      "source": [
        "**Operators with the most accidents**"
      ]
    },
    {
      "cell_type": "code",
      "metadata": {
        "id": "LVzEBBIoET03"
      },
      "source": [
        "data = airplane_dataset.groupby('operator')['year'].count().reset_index().nlargest(n=10, columns= 'year')"
      ],
      "execution_count": 254,
      "outputs": []
    },
    {
      "cell_type": "code",
      "metadata": {
        "colab": {
          "base_uri": "https://localhost:8080/",
          "height": 482
        },
        "id": "E5cz62PQ6ozT",
        "outputId": "6db9d9c8-3581-4e44-c5d3-2b7e49373a3b"
      },
      "source": [
        "plt.figure(figsize= (7, 4))\n",
        "plt.xticks(rotation= 90)\n",
        "sns.barplot(x='operator', y= 'year', data= data)\n",
        "plt.xlabel('Operator')\n",
        "plt.ylabel('Number of accidents')\n",
        "plt.title('Top 10 operators with the most accidents')\n"
      ],
      "execution_count": 255,
      "outputs": [
        {
          "output_type": "execute_result",
          "data": {
            "text/plain": [
              "Text(0.5, 1.0, 'Top 10 operators with the most accidents')"
            ]
          },
          "metadata": {},
          "execution_count": 255
        },
        {
          "output_type": "display_data",
          "data": {
            "image/png": "[encoded data removed]",
            "text/plain": [
              "<Figure size 504x288 with 1 Axes>"
            ]
          },
          "metadata": {
            "needs_background": "light"
          }
        }
      ]
    },
    {
      "cell_type": "code",
      "metadata": {
        "id": "WUf2V1TvCs5l"
      },
      "source": [
        ""
      ],
      "execution_count": null,
      "outputs": []
    }
  ]
}